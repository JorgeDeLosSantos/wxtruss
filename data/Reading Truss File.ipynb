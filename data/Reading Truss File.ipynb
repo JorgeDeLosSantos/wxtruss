{
 "cells": [
  {
   "cell_type": "code",
   "execution_count": 11,
   "metadata": {},
   "outputs": [],
   "source": [
    "import json\n",
    "import numpy as np\n",
    "import pandas as pd"
   ]
  },
  {
   "cell_type": "code",
   "execution_count": 5,
   "metadata": {},
   "outputs": [],
   "source": [
    "with open('example_02.truss', 'r') as myfile:\n",
    "    data=myfile.read()"
   ]
  },
  {
   "cell_type": "code",
   "execution_count": 6,
   "metadata": {},
   "outputs": [],
   "source": [
    "obj = json.loads(data)"
   ]
  },
  {
   "cell_type": "code",
   "execution_count": 7,
   "metadata": {},
   "outputs": [],
   "source": [
    "nn = len(obj[\"nodes\"])\n",
    "nodos = np.zeros((nn,2))\n",
    "for i,m in enumerate(obj[\"nodes\"]):\n",
    "    nodos[i,0] = m[\"x\"]\n",
    "    nodos[i,1] = m[\"y\"]"
   ]
  },
  {
   "cell_type": "code",
   "execution_count": 8,
   "metadata": {},
   "outputs": [
    {
     "data": {
      "text/plain": [
       "array([[1.e+00, 2.e+00, 2.e+11, 1.e-04],\n",
       "       [2.e+00, 3.e+00, 2.e+11, 1.e-04],\n",
       "       [3.e+00, 4.e+00, 2.e+11, 1.e-04],\n",
       "       [4.e+00, 5.e+00, 2.e+11, 1.e-04],\n",
       "       [5.e+00, 6.e+00, 2.e+11, 1.e-04],\n",
       "       [1.e+00, 6.e+00, 2.e+11, 1.e-04],\n",
       "       [2.e+00, 5.e+00, 2.e+11, 1.e-04],\n",
       "       [2.e+00, 6.e+00, 2.e+11, 1.e-04],\n",
       "       [2.e+00, 4.e+00, 2.e+11, 1.e-04]])"
      ]
     },
     "execution_count": 8,
     "metadata": {},
     "output_type": "execute_result"
    }
   ],
   "source": [
    "nn = len(obj[\"elements\"])\n",
    "elementos = np.zeros((nn,4))\n",
    "for i,m in enumerate(obj[\"elements\"]):\n",
    "    elementos[i,0] = m[\"ni\"]\n",
    "    elementos[i,1] = m[\"nj\"]\n",
    "    elementos[i,2] = m[\"E\"]\n",
    "    elementos[i,3] = m[\"A\"]\n",
    "    \n",
    "elementos"
   ]
  },
  {
   "cell_type": "code",
   "execution_count": 9,
   "metadata": {},
   "outputs": [
    {
     "data": {
      "text/plain": [
       "array([[ 1.,  0.,  0.],\n",
       "       [ 3., nan,  0.]])"
      ]
     },
     "execution_count": 9,
     "metadata": {},
     "output_type": "execute_result"
    }
   ],
   "source": [
    "nn = len(obj[\"constraints\"])\n",
    "const = np.zeros((nn,3))\n",
    "for i,m in enumerate(obj[\"constraints\"]):\n",
    "    const[i,1] = np.nan if m[\"ux\"] == \"free\" else m[\"ux\"]\n",
    "    const[i,2] = np.nan if m[\"uy\"] == \"free\" else m[\"uy\"]\n",
    "    const[i,0] = m[\"node\"]\n",
    "    \n",
    "const"
   ]
  },
  {
   "cell_type": "code",
   "execution_count": 10,
   "metadata": {},
   "outputs": [
    {
     "data": {
      "text/plain": [
       "array([[    4.,     0., -3000.],\n",
       "       [    5.,     0., -4000.],\n",
       "       [    6.,     0., -3000.]])"
      ]
     },
     "execution_count": 10,
     "metadata": {},
     "output_type": "execute_result"
    }
   ],
   "source": [
    "nn = len(obj[\"forces\"])\n",
    "fuerzas = np.zeros((nn,3))\n",
    "for i,m in enumerate(obj[\"forces\"]):\n",
    "    fuerzas[i,1] = m[\"fx\"]\n",
    "    fuerzas[i,2] = m[\"fy\"]\n",
    "    fuerzas[i,0] = m[\"node\"]\n",
    "    \n",
    "fuerzas"
   ]
  },
  {
   "cell_type": "code",
   "execution_count": 14,
   "metadata": {},
   "outputs": [],
   "source": [
    "fz = pd.DataFrame(fuerzas)"
   ]
  },
  {
   "cell_type": "code",
   "execution_count": 22,
   "metadata": {},
   "outputs": [
    {
     "data": {
      "text/plain": [
       "'<table border=\"1\" class=\"dataframe\">\\n  <thead>\\n    <tr style=\"text-align: center;\">\\n      <th></th>\\n      <th>0</th>\\n      <th>1</th>\\n      <th>2</th>\\n    </tr>\\n  </thead>\\n  <tbody>\\n    <tr>\\n      <th>0</th>\\n      <td>4.0</td>\\n      <td>0.0</td>\\n      <td>-3000.0</td>\\n    </tr>\\n    <tr>\\n      <th>1</th>\\n      <td>5.0</td>\\n      <td>0.0</td>\\n      <td>-4000.0</td>\\n    </tr>\\n    <tr>\\n      <th>2</th>\\n      <td>6.0</td>\\n      <td>0.0</td>\\n      <td>-3000.0</td>\\n    </tr>\\n  </tbody>\\n</table>'"
      ]
     },
     "execution_count": 22,
     "metadata": {},
     "output_type": "execute_result"
    }
   ],
   "source": [
    "fz.to_html(justify=\"center\")"
   ]
  },
  {
   "cell_type": "markdown",
   "metadata": {},
   "source": [
    "<table border=\"10\" class=\"dataframe\">\\n  <thead>\\n    <tr style=\"text-align: right;\">\\n      <th></th>\\n      <th>0</th>\\n      <th>1</th>\\n      <th>2</th>\\n    </tr>\\n  </thead>\\n  <tbody>\\n    <tr>\\n      <th>0</th>\\n      <td>4.0</td>\\n      <td>0.0</td>\\n      <td>-3000.0</td>\\n    </tr>\\n    <tr>\\n      <th>1</th>\\n      <td>5.0</td>\\n      <td>0.0</td>\\n      <td>-4000.0</td>\\n    </tr>\\n    <tr>\\n      <th>2</th>\\n      <td>6.0</td>\\n      <td>0.0</td>\\n      <td>-3000.0</td>\\n    </tr>\\n  </tbody>\\n</table>"
   ]
  },
  {
   "cell_type": "code",
   "execution_count": null,
   "metadata": {},
   "outputs": [],
   "source": []
  }
 ],
 "metadata": {
  "kernelspec": {
   "display_name": "Python 3",
   "language": "python",
   "name": "python3"
  },
  "language_info": {
   "codemirror_mode": {
    "name": "ipython",
    "version": 3
   },
   "file_extension": ".py",
   "mimetype": "text/x-python",
   "name": "python",
   "nbconvert_exporter": "python",
   "pygments_lexer": "ipython3",
   "version": "3.6.5"
  }
 },
 "nbformat": 4,
 "nbformat_minor": 2
}
